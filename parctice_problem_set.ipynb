{
  "nbformat": 4,
  "nbformat_minor": 0,
  "metadata": {
    "colab": {
      "provenance": [],
      "collapsed_sections": [
        "5VhhtDXOnRmd",
        "MRIL42zLp3nY",
        "Sbj68GdlxGw9",
        "zvA2-WFuxgVL",
        "lvh2S4Q6zdNe",
        "o-ODOyxrzyRY",
        "vLXjDS440xQ6",
        "AedNTd0dEYtX",
        "S7QigX9tGZJR",
        "dAcSXO-nHCo_"
      ],
      "authorship_tag": "ABX9TyNI1iEMGiNS2NaC2Db9dDNs",
      "include_colab_link": true
    },
    "kernelspec": {
      "name": "python3",
      "display_name": "Python 3"
    },
    "language_info": {
      "name": "python"
    }
  },
  "cells": [
    {
      "cell_type": "markdown",
      "metadata": {
        "id": "view-in-github",
        "colab_type": "text"
      },
      "source": [
        "<a href=\"https://colab.research.google.com/github/cyxabima/python-practice-college/blob/main/parctice_problem_set.ipynb\" target=\"_parent\"><img src=\"https://colab.research.google.com/assets/colab-badge.svg\" alt=\"Open In Colab\"/></a>"
      ]
    },
    {
      "cell_type": "markdown",
      "source": [
        "# Functions"
      ],
      "metadata": {
        "id": "OQVDaGwXDgcy"
      }
    },
    {
      "cell_type": "markdown",
      "source": [
        "### 1. Are the following legal Python programs?"
      ],
      "metadata": {
        "id": "5VhhtDXOnRmd"
      }
    },
    {
      "cell_type": "code",
      "source": [],
      "metadata": {
        "id": "7Zq7U7ocpEnV"
      },
      "execution_count": null,
      "outputs": []
    },
    {
      "cell_type": "code",
      "source": [
        "def proc(x):\n",
        "  return x + 2\n",
        "def proc(n):\n",
        "  return 2*n + 1\n",
        "def main():\n",
        "  x = proc(5)\n",
        "\n",
        "main()\n",
        "# The code as written is valid in Python because Python allows function redefinition, where a later definition of a function overrides any previous definitions with the same name in the same scope."
      ],
      "metadata": {
        "id": "PgXOAKIenWql"
      },
      "execution_count": null,
      "outputs": []
    },
    {
      "cell_type": "code",
      "source": [
        "def proc(x):\n",
        "  return x + 2\n",
        "def main():\n",
        "  x = proc(5)\n",
        "  y = proc(4)\n",
        "main()"
      ],
      "metadata": {
        "id": "Q7blVdFTnz3K"
      },
      "execution_count": null,
      "outputs": []
    },
    {
      "cell_type": "code",
      "source": [
        "def proc(x):\n",
        "  print(x + 2)\n",
        "def main():\n",
        "  x = proc(5)\n",
        "main()"
      ],
      "metadata": {
        "colab": {
          "base_uri": "https://localhost:8080/"
        },
        "id": "CVhRlC4-obtw",
        "outputId": "943be50b-bc6f-40a5-a48a-e4c0ef3c25ee"
      },
      "execution_count": null,
      "outputs": [
        {
          "output_type": "stream",
          "name": "stdout",
          "text": [
            "7\n"
          ]
        }
      ]
    },
    {
      "cell_type": "code",
      "source": [
        "def proc(x, y):\n",
        "  return 2*x + y*y\n",
        "def main():\n",
        "  print(proc(5, 4))\n",
        "main()"
      ],
      "metadata": {
        "colab": {
          "base_uri": "https://localhost:8080/"
        },
        "id": "lhWQSSiboqE8",
        "outputId": "d81fa1c8-fbfc-4984-be22-efbab8377da8"
      },
      "execution_count": null,
      "outputs": [
        {
          "output_type": "stream",
          "name": "stdout",
          "text": [
            "26\n"
          ]
        }
      ]
    },
    {
      "cell_type": "code",
      "source": [
        "def proc(x, y):\n",
        "  return 2*x + y*y\n",
        "def main():\n",
        "  print(proc(5)) # error beacuse proc take two arguments so not valid code\n",
        "main()"
      ],
      "metadata": {
        "colab": {
          "base_uri": "https://localhost:8080/",
          "height": 280
        },
        "id": "-zxi5ARipGNS",
        "outputId": "dba983a5-e090-46ae-801e-75a74d532ca9"
      },
      "execution_count": null,
      "outputs": [
        {
          "output_type": "error",
          "ename": "TypeError",
          "evalue": "proc() missing 1 required positional argument: 'y'",
          "traceback": [
            "\u001b[0;31m---------------------------------------------------------------------------\u001b[0m",
            "\u001b[0;31mTypeError\u001b[0m                                 Traceback (most recent call last)",
            "\u001b[0;32m<ipython-input-11-00e83b834db5>\u001b[0m in \u001b[0;36m<cell line: 5>\u001b[0;34m()\u001b[0m\n\u001b[1;32m      3\u001b[0m \u001b[0;32mdef\u001b[0m \u001b[0mmain\u001b[0m\u001b[0;34m(\u001b[0m\u001b[0;34m)\u001b[0m\u001b[0;34m:\u001b[0m\u001b[0;34m\u001b[0m\u001b[0;34m\u001b[0m\u001b[0m\n\u001b[1;32m      4\u001b[0m   \u001b[0mprint\u001b[0m\u001b[0;34m(\u001b[0m\u001b[0mproc\u001b[0m\u001b[0;34m(\u001b[0m\u001b[0;36m5\u001b[0m\u001b[0;34m)\u001b[0m\u001b[0;34m)\u001b[0m \u001b[0;31m# error beacuse proc take two arguments so not valid code\u001b[0m\u001b[0;34m\u001b[0m\u001b[0;34m\u001b[0m\u001b[0m\n\u001b[0;32m----> 5\u001b[0;31m \u001b[0mmain\u001b[0m\u001b[0;34m(\u001b[0m\u001b[0;34m)\u001b[0m\u001b[0;34m\u001b[0m\u001b[0;34m\u001b[0m\u001b[0m\n\u001b[0m",
            "\u001b[0;32m<ipython-input-11-00e83b834db5>\u001b[0m in \u001b[0;36mmain\u001b[0;34m()\u001b[0m\n\u001b[1;32m      2\u001b[0m   \u001b[0;32mreturn\u001b[0m \u001b[0;36m2\u001b[0m\u001b[0;34m*\u001b[0m\u001b[0mx\u001b[0m \u001b[0;34m+\u001b[0m \u001b[0my\u001b[0m\u001b[0;34m*\u001b[0m\u001b[0my\u001b[0m\u001b[0;34m\u001b[0m\u001b[0;34m\u001b[0m\u001b[0m\n\u001b[1;32m      3\u001b[0m \u001b[0;32mdef\u001b[0m \u001b[0mmain\u001b[0m\u001b[0;34m(\u001b[0m\u001b[0;34m)\u001b[0m\u001b[0;34m:\u001b[0m\u001b[0;34m\u001b[0m\u001b[0;34m\u001b[0m\u001b[0m\n\u001b[0;32m----> 4\u001b[0;31m   \u001b[0mprint\u001b[0m\u001b[0;34m(\u001b[0m\u001b[0mproc\u001b[0m\u001b[0;34m(\u001b[0m\u001b[0;36m5\u001b[0m\u001b[0;34m)\u001b[0m\u001b[0;34m)\u001b[0m \u001b[0;31m# error beacuse proc take two arguments so not valid code\u001b[0m\u001b[0;34m\u001b[0m\u001b[0;34m\u001b[0m\u001b[0m\n\u001b[0m\u001b[1;32m      5\u001b[0m \u001b[0mmain\u001b[0m\u001b[0;34m(\u001b[0m\u001b[0;34m)\u001b[0m\u001b[0;34m\u001b[0m\u001b[0;34m\u001b[0m\u001b[0m\n",
            "\u001b[0;31mTypeError\u001b[0m: proc() missing 1 required positional argument: 'y'"
          ]
        }
      ]
    },
    {
      "cell_type": "code",
      "source": [
        "def proc(x):\n",
        "  return 2*x\n",
        "def main():\n",
        "  print(proc(5, 4)) # takes one arguments but 2 are given\n",
        "main()"
      ],
      "metadata": {
        "colab": {
          "base_uri": "https://localhost:8080/",
          "height": 280
        },
        "id": "YEnEZVJBpUHb",
        "outputId": "e731938b-b422-4fe9-b55a-580f153ca99e"
      },
      "execution_count": null,
      "outputs": [
        {
          "output_type": "error",
          "ename": "TypeError",
          "evalue": "proc() takes 1 positional argument but 2 were given",
          "traceback": [
            "\u001b[0;31m---------------------------------------------------------------------------\u001b[0m",
            "\u001b[0;31mTypeError\u001b[0m                                 Traceback (most recent call last)",
            "\u001b[0;32m<ipython-input-13-48c98c4a9d6d>\u001b[0m in \u001b[0;36m<cell line: 5>\u001b[0;34m()\u001b[0m\n\u001b[1;32m      3\u001b[0m \u001b[0;32mdef\u001b[0m \u001b[0mmain\u001b[0m\u001b[0;34m(\u001b[0m\u001b[0;34m)\u001b[0m\u001b[0;34m:\u001b[0m\u001b[0;34m\u001b[0m\u001b[0;34m\u001b[0m\u001b[0m\n\u001b[1;32m      4\u001b[0m   \u001b[0mprint\u001b[0m\u001b[0;34m(\u001b[0m\u001b[0mproc\u001b[0m\u001b[0;34m(\u001b[0m\u001b[0;36m5\u001b[0m\u001b[0;34m,\u001b[0m \u001b[0;36m4\u001b[0m\u001b[0;34m)\u001b[0m\u001b[0;34m)\u001b[0m \u001b[0;31m# takes one arguments but 2 are given\u001b[0m\u001b[0;34m\u001b[0m\u001b[0;34m\u001b[0m\u001b[0m\n\u001b[0;32m----> 5\u001b[0;31m \u001b[0mmain\u001b[0m\u001b[0;34m(\u001b[0m\u001b[0;34m)\u001b[0m\u001b[0;34m\u001b[0m\u001b[0;34m\u001b[0m\u001b[0m\n\u001b[0m",
            "\u001b[0;32m<ipython-input-13-48c98c4a9d6d>\u001b[0m in \u001b[0;36mmain\u001b[0;34m()\u001b[0m\n\u001b[1;32m      2\u001b[0m   \u001b[0;32mreturn\u001b[0m \u001b[0;36m2\u001b[0m\u001b[0;34m*\u001b[0m\u001b[0mx\u001b[0m\u001b[0;34m\u001b[0m\u001b[0;34m\u001b[0m\u001b[0m\n\u001b[1;32m      3\u001b[0m \u001b[0;32mdef\u001b[0m \u001b[0mmain\u001b[0m\u001b[0;34m(\u001b[0m\u001b[0;34m)\u001b[0m\u001b[0;34m:\u001b[0m\u001b[0;34m\u001b[0m\u001b[0;34m\u001b[0m\u001b[0m\n\u001b[0;32m----> 4\u001b[0;31m   \u001b[0mprint\u001b[0m\u001b[0;34m(\u001b[0m\u001b[0mproc\u001b[0m\u001b[0;34m(\u001b[0m\u001b[0;36m5\u001b[0m\u001b[0;34m,\u001b[0m \u001b[0;36m4\u001b[0m\u001b[0;34m)\u001b[0m\u001b[0;34m)\u001b[0m \u001b[0;31m# takes one arguments but 2 are given\u001b[0m\u001b[0;34m\u001b[0m\u001b[0;34m\u001b[0m\u001b[0m\n\u001b[0m\u001b[1;32m      5\u001b[0m \u001b[0mmain\u001b[0m\u001b[0;34m(\u001b[0m\u001b[0;34m)\u001b[0m\u001b[0;34m\u001b[0m\u001b[0;34m\u001b[0m\u001b[0m\n",
            "\u001b[0;31mTypeError\u001b[0m: proc() takes 1 positional argument but 2 were given"
          ]
        }
      ]
    },
    {
      "cell_type": "code",
      "source": [
        "def proc(x):\n",
        "  print(2*x*x)\n",
        "def main():\n",
        "  proc(5)\n",
        "main()"
      ],
      "metadata": {
        "colab": {
          "base_uri": "https://localhost:8080/"
        },
        "id": "KsdQ2WTApht1",
        "outputId": "926224b2-76e3-433d-d17e-ed0912415b21"
      },
      "execution_count": null,
      "outputs": [
        {
          "output_type": "stream",
          "name": "stdout",
          "text": [
            "50\n"
          ]
        }
      ]
    },
    {
      "cell_type": "markdown",
      "source": [
        "### 2 The programmer was expecting the following program to print 200. What does it print instead? Why does it print what it does?"
      ],
      "metadata": {
        "id": "MRIL42zLp3nY"
      }
    },
    {
      "cell_type": "code",
      "source": [
        "def proc(x):\n",
        "  x = 2*x*x\n",
        "def main():\n",
        "  num = 10\n",
        "  proc(num) # as we are not returning nor printing in a function so 200 will not printing\n",
        "  print(num) # here we are actually printing the number 10 so 10 will be printed\n",
        "main()"
      ],
      "metadata": {
        "colab": {
          "base_uri": "https://localhost:8080/"
        },
        "id": "26FkRHpMptpu",
        "outputId": "f4d4d4b5-718b-47d7-9f68-4a4e8cc7756f"
      },
      "execution_count": null,
      "outputs": [
        {
          "output_type": "stream",
          "name": "stdout",
          "text": [
            "10\n"
          ]
        }
      ]
    },
    {
      "cell_type": "markdown",
      "source": [
        "### 3. Is the following program legal since the variable x is used in two different places (proc and main)? Why or why not?"
      ],
      "metadata": {
        "id": "Sbj68GdlxGw9"
      }
    },
    {
      "cell_type": "code",
      "source": [
        "def proc(x):\n",
        "  return 2*x*x\n",
        "def main():\n",
        "  x = 10\n",
        "  print(proc(x))  # because they are part of differnt namespace\n",
        "main()"
      ],
      "metadata": {
        "colab": {
          "base_uri": "https://localhost:8080/"
        },
        "id": "mUEBtflFxGYa",
        "outputId": "5c9918ea-17af-4893-d74e-08e01d008322"
      },
      "execution_count": null,
      "outputs": [
        {
          "output_type": "stream",
          "name": "stdout",
          "text": [
            "200\n"
          ]
        }
      ]
    },
    {
      "cell_type": "markdown",
      "source": [
        "### 4. Is the following program legal since the actual parameter has a different name from the formal parameter (y vs. x)? Why or why not?"
      ],
      "metadata": {
        "id": "zvA2-WFuxgVL"
      }
    },
    {
      "cell_type": "code",
      "source": [
        "def proc(x):\n",
        "  return 2*x*x\n",
        "  y = 10\n",
        "print(proc(y))\n",
        "\n",
        "''' In Python, when you call a function and pass an argument (the actual parameter)\n",
        " the value of that argument is copied into the function's formal parameter.\n",
        "The names of the actual parameter (used in the function call) and the formal parameter\n",
        "(used in the function definition) are completely independent of each other.'''"
      ],
      "metadata": {
        "colab": {
          "base_uri": "https://localhost:8080/"
        },
        "id": "XEcCq8UHxmV3",
        "outputId": "c7ee7ed1-ddb9-4f1d-d218-d3fc8e664090"
      },
      "execution_count": null,
      "outputs": [
        {
          "output_type": "stream",
          "name": "stdout",
          "text": [
            "200\n"
          ]
        }
      ]
    },
    {
      "cell_type": "markdown",
      "source": [
        "### 5. Which of the following values could be produced by the call random.randrange(0, 100) function?\n",
        "a. 34 b. -1 c. 100 d. 0 e. 99\n"
      ],
      "metadata": {
        "id": "lvh2S4Q6zdNe"
      }
    },
    {
      "cell_type": "code",
      "source": [
        "'''a. 34: ✅ Possible. 34 is within the range [0, 100).\n",
        "b. -1: ❌ Not Possible. -1 is not in the range [0, 100).\n",
        "c. 100: ❌ Not Possible. 100 is the upper limit but is excluded.\n",
        "d. 0: ✅ Possible. 0 is the lower limit and is included.\n",
        "e. 99: ✅ Possible. 99 is the largest integer in the range [0, 100).'''"
      ],
      "metadata": {
        "id": "fIMa-MJ3y5dm"
      },
      "execution_count": null,
      "outputs": []
    },
    {
      "cell_type": "markdown",
      "source": [
        "### 6. Classify each of the following expressions as legal or illegal.\n",
        "a. math.sqrt(4.5) b. math.sqrt(4.5, 3.1) c. random.rand(4)"
      ],
      "metadata": {
        "id": "o-ODOyxrzyRY"
      }
    },
    {
      "cell_type": "code",
      "source": [
        "'''a. math.sqrt(4.5) perfect\n",
        "b. math.sqrt(4.5, 3.1)  wrong sqrt takes only one arguments\n",
        "c. random.rand(4) Random  molule has has no metthod or attribute named rand but randint exist'''"
      ],
      "metadata": {
        "id": "slvnJeXNz8su"
      },
      "execution_count": null,
      "outputs": []
    },
    {
      "cell_type": "markdown",
      "source": [
        "### 7. Consider the following function definitions:\n"
      ],
      "metadata": {
        "id": "vLXjDS440xQ6"
      }
    },
    {
      "cell_type": "code",
      "source": [
        "from random import randrange\n",
        "def fun1(n):\n",
        "  result = 0\n",
        "  while n:\n",
        "    result += n\n",
        "    n -= 1\n",
        "  return result\n",
        "\n",
        "def fun2(stars):\n",
        "  for i in range(stars + 1):\n",
        "    print(end=\"*\")\n",
        "    print()\n",
        "\n",
        "def fun3(x, y):\n",
        "  return 2*x*x + 3*y\n",
        "\n",
        "def fun4(n):\n",
        "  return 10 <= n <= 20\n",
        "\n",
        "def fun5(a, b, c):\n",
        "  return randrange(0, 2)"
      ],
      "metadata": {
        "id": "iUv6Z0Ye07P-"
      },
      "execution_count": null,
      "outputs": []
    },
    {
      "cell_type": "code",
      "source": [
        "print(fun1(5))\n"
      ],
      "metadata": {
        "colab": {
          "base_uri": "https://localhost:8080/"
        },
        "id": "p3K675X419gI",
        "outputId": "68759a51-2d08-447c-c5f9-559c10077feb"
      },
      "execution_count": null,
      "outputs": [
        {
          "output_type": "stream",
          "name": "stdout",
          "text": [
            "15\n"
          ]
        }
      ]
    },
    {
      "cell_type": "code",
      "source": [
        "print(fun1())  # argument is missing\n"
      ],
      "metadata": {
        "colab": {
          "base_uri": "https://localhost:8080/",
          "height": 141
        },
        "id": "TS4hNBPI1-YT",
        "outputId": "e0846e22-c9e2-4aa8-d025-eae4539db313"
      },
      "execution_count": null,
      "outputs": [
        {
          "output_type": "error",
          "ename": "TypeError",
          "evalue": "fun1() missing 1 required positional argument: 'n'",
          "traceback": [
            "\u001b[0;31m---------------------------------------------------------------------------\u001b[0m",
            "\u001b[0;31mTypeError\u001b[0m                                 Traceback (most recent call last)",
            "\u001b[0;32m<ipython-input-22-38c1b733b180>\u001b[0m in \u001b[0;36m<cell line: 1>\u001b[0;34m()\u001b[0m\n\u001b[0;32m----> 1\u001b[0;31m \u001b[0mprint\u001b[0m\u001b[0;34m(\u001b[0m\u001b[0mfun1\u001b[0m\u001b[0;34m(\u001b[0m\u001b[0;34m)\u001b[0m\u001b[0;34m)\u001b[0m\u001b[0;34m\u001b[0m\u001b[0;34m\u001b[0m\u001b[0m\n\u001b[0m",
            "\u001b[0;31mTypeError\u001b[0m: fun1() missing 1 required positional argument: 'n'"
          ]
        }
      ]
    },
    {
      "cell_type": "code",
      "source": [
        "print(fun1(5, 2)) # one argument is extra"
      ],
      "metadata": {
        "colab": {
          "base_uri": "https://localhost:8080/",
          "height": 141
        },
        "id": "l4UiWoA-2CuJ",
        "outputId": "b51c4da5-c540-4fa6-c6c1-b396378e43b9"
      },
      "execution_count": null,
      "outputs": [
        {
          "output_type": "error",
          "ename": "TypeError",
          "evalue": "fun1() takes 1 positional argument but 2 were given",
          "traceback": [
            "\u001b[0;31m---------------------------------------------------------------------------\u001b[0m",
            "\u001b[0;31mTypeError\u001b[0m                                 Traceback (most recent call last)",
            "\u001b[0;32m<ipython-input-23-ffb599ef4b33>\u001b[0m in \u001b[0;36m<cell line: 1>\u001b[0;34m()\u001b[0m\n\u001b[0;32m----> 1\u001b[0;31m \u001b[0mprint\u001b[0m\u001b[0;34m(\u001b[0m\u001b[0mfun1\u001b[0m\u001b[0;34m(\u001b[0m\u001b[0;36m5\u001b[0m\u001b[0;34m,\u001b[0m \u001b[0;36m2\u001b[0m\u001b[0;34m)\u001b[0m\u001b[0;34m)\u001b[0m \u001b[0;31m# one argument is extra\u001b[0m\u001b[0;34m\u001b[0m\u001b[0;34m\u001b[0m\u001b[0m\n\u001b[0m",
            "\u001b[0;31mTypeError\u001b[0m: fun1() takes 1 positional argument but 2 were given"
          ]
        }
      ]
    },
    {
      "cell_type": "code",
      "source": [
        "print(fun2(5)) # as function return None"
      ],
      "metadata": {
        "colab": {
          "base_uri": "https://localhost:8080/"
        },
        "id": "hcva-Ks42KkD",
        "outputId": "3ce9916b-b69e-45d1-d677-bb8fd21ad9c3"
      },
      "execution_count": null,
      "outputs": [
        {
          "output_type": "stream",
          "name": "stdout",
          "text": [
            "*\n",
            "*\n",
            "*\n",
            "*\n",
            "*\n",
            "*\n",
            "None\n"
          ]
        }
      ]
    },
    {
      "cell_type": "code",
      "source": [
        "fun2(5)"
      ],
      "metadata": {
        "colab": {
          "base_uri": "https://localhost:8080/"
        },
        "id": "LSveDNqP2bwK",
        "outputId": "4e48fbf1-0d4e-41ee-e172-d04c2a029718"
      },
      "execution_count": null,
      "outputs": [
        {
          "output_type": "stream",
          "name": "stdout",
          "text": [
            "*\n",
            "*\n",
            "*\n",
            "*\n",
            "*\n",
            "*\n"
          ]
        }
      ]
    },
    {
      "cell_type": "code",
      "source": [
        "fun2(0)"
      ],
      "metadata": {
        "colab": {
          "base_uri": "https://localhost:8080/"
        },
        "id": "kX0V_MLa2dw1",
        "outputId": "7fc0eecf-f935-4da8-daa6-1f0474af1560"
      },
      "execution_count": null,
      "outputs": [
        {
          "output_type": "stream",
          "name": "stdout",
          "text": [
            "*\n"
          ]
        }
      ]
    },
    {
      "cell_type": "code",
      "source": [
        "fun2(-2)\n",
        "# it is perfectly fine cuz in function range will evaluate as  range(0,-2+1)\n",
        "# range(0,-1) since there is not integer between them so iteratable object is not created\n",
        "# so nothing will printed\n",
        "# original reason\n",
        "'''\n",
        "as general formula for range or slicing or any kind of similar operation is\n",
        "a[i] = start +(step * i)  && untile a[i] < stop if step is +ve else if a[i] > stop cuz for -ve step a[i] is alway less then stop\n",
        "\n",
        "\n",
        "\n",
        "for example range (0,3)\n",
        "a[0] = 0 + (0*1) = 0\n",
        "a[1] = 0 + (1*1) = 1\n",
        "a[2] = 0 + (2*1) = 2\n",
        "a [3] = 0 + (3*1) = 3  as here 3 is equal to stop and rule is a[i] should be less than stop so this will not generate\n",
        "\n",
        "\n",
        "              In short The sequence stops when the condition\n",
        "              a[i]<stop (for positive step) or\n",
        "              a[i]>stop (for negative step) is violated.\n",
        "\n",
        "so here empty range is genrated\n",
        "              '''"
      ],
      "metadata": {
        "id": "46bPEB_G2gYY"
      },
      "execution_count": null,
      "outputs": []
    },
    {
      "cell_type": "code",
      "source": [
        "print(fun3(5, 2))"
      ],
      "metadata": {
        "colab": {
          "base_uri": "https://localhost:8080/"
        },
        "id": "aeMReAP32iUV",
        "outputId": "165346a5-3ea5-49a8-ef65-463726d03aea"
      },
      "execution_count": null,
      "outputs": [
        {
          "output_type": "stream",
          "name": "stdout",
          "text": [
            "56\n"
          ]
        }
      ]
    },
    {
      "cell_type": "code",
      "source": [
        "print(fun3(5.0, 2.0))\n"
      ],
      "metadata": {
        "colab": {
          "base_uri": "https://localhost:8080/"
        },
        "id": "LhdKz_QTAlfo",
        "outputId": "130b45b8-a4d4-4f6a-cacc-7e2cdf739a32"
      },
      "execution_count": null,
      "outputs": [
        {
          "output_type": "stream",
          "name": "stdout",
          "text": [
            "56.0\n"
          ]
        }
      ]
    },
    {
      "cell_type": "code",
      "source": [
        "print(fun3('A', 'B')) # error because A*A is not possible"
      ],
      "metadata": {
        "colab": {
          "base_uri": "https://localhost:8080/",
          "height": 263
        },
        "id": "_hm80gaCAqv_",
        "outputId": "0ac9e3df-dc6a-4d01-9ef8-228cfb1b422e"
      },
      "execution_count": null,
      "outputs": [
        {
          "output_type": "error",
          "ename": "TypeError",
          "evalue": "can't multiply sequence by non-int of type 'str'",
          "traceback": [
            "\u001b[0;31m---------------------------------------------------------------------------\u001b[0m",
            "\u001b[0;31mTypeError\u001b[0m                                 Traceback (most recent call last)",
            "\u001b[0;32m<ipython-input-35-d64a49184317>\u001b[0m in \u001b[0;36m<cell line: 1>\u001b[0;34m()\u001b[0m\n\u001b[0;32m----> 1\u001b[0;31m \u001b[0mprint\u001b[0m\u001b[0;34m(\u001b[0m\u001b[0mfun3\u001b[0m\u001b[0;34m(\u001b[0m\u001b[0;34m'A'\u001b[0m\u001b[0;34m,\u001b[0m \u001b[0;34m'B'\u001b[0m\u001b[0;34m)\u001b[0m\u001b[0;34m)\u001b[0m \u001b[0;31m# error because A*A is not possible\u001b[0m\u001b[0;34m\u001b[0m\u001b[0;34m\u001b[0m\u001b[0m\n\u001b[0m",
            "\u001b[0;32m<ipython-input-20-ff4fe71e5656>\u001b[0m in \u001b[0;36mfun3\u001b[0;34m(x, y)\u001b[0m\n\u001b[1;32m     13\u001b[0m \u001b[0;34m\u001b[0m\u001b[0m\n\u001b[1;32m     14\u001b[0m \u001b[0;32mdef\u001b[0m \u001b[0mfun3\u001b[0m\u001b[0;34m(\u001b[0m\u001b[0mx\u001b[0m\u001b[0;34m,\u001b[0m \u001b[0my\u001b[0m\u001b[0;34m)\u001b[0m\u001b[0;34m:\u001b[0m\u001b[0;34m\u001b[0m\u001b[0;34m\u001b[0m\u001b[0m\n\u001b[0;32m---> 15\u001b[0;31m   \u001b[0;32mreturn\u001b[0m \u001b[0;36m2\u001b[0m\u001b[0;34m*\u001b[0m\u001b[0mx\u001b[0m\u001b[0;34m*\u001b[0m\u001b[0mx\u001b[0m \u001b[0;34m+\u001b[0m \u001b[0;36m3\u001b[0m\u001b[0;34m*\u001b[0m\u001b[0my\u001b[0m\u001b[0;34m\u001b[0m\u001b[0;34m\u001b[0m\u001b[0m\n\u001b[0m\u001b[1;32m     16\u001b[0m \u001b[0;34m\u001b[0m\u001b[0m\n\u001b[1;32m     17\u001b[0m \u001b[0;32mdef\u001b[0m \u001b[0mfun4\u001b[0m\u001b[0;34m(\u001b[0m\u001b[0mn\u001b[0m\u001b[0;34m)\u001b[0m\u001b[0;34m:\u001b[0m\u001b[0;34m\u001b[0m\u001b[0;34m\u001b[0m\u001b[0m\n",
            "\u001b[0;31mTypeError\u001b[0m: can't multiply sequence by non-int of type 'str'"
          ]
        }
      ]
    },
    {
      "cell_type": "code",
      "source": [
        "print(fun3(5.0)) # one argument is missing"
      ],
      "metadata": {
        "colab": {
          "base_uri": "https://localhost:8080/",
          "height": 141
        },
        "id": "oXFaGLeOA7E8",
        "outputId": "a3377c74-1d59-44cd-ed1e-c18d0af0b4e0"
      },
      "execution_count": null,
      "outputs": [
        {
          "output_type": "error",
          "ename": "TypeError",
          "evalue": "fun3() missing 1 required positional argument: 'y'",
          "traceback": [
            "\u001b[0;31m---------------------------------------------------------------------------\u001b[0m",
            "\u001b[0;31mTypeError\u001b[0m                                 Traceback (most recent call last)",
            "\u001b[0;32m<ipython-input-36-f2767df866d0>\u001b[0m in \u001b[0;36m<cell line: 1>\u001b[0;34m()\u001b[0m\n\u001b[0;32m----> 1\u001b[0;31m \u001b[0mprint\u001b[0m\u001b[0;34m(\u001b[0m\u001b[0mfun3\u001b[0m\u001b[0;34m(\u001b[0m\u001b[0;36m5.0\u001b[0m\u001b[0;34m)\u001b[0m\u001b[0;34m)\u001b[0m \u001b[0;31m# one argument is missing\u001b[0m\u001b[0;34m\u001b[0m\u001b[0;34m\u001b[0m\u001b[0m\n\u001b[0m",
            "\u001b[0;31mTypeError\u001b[0m: fun3() missing 1 required positional argument: 'y'"
          ]
        }
      ]
    },
    {
      "cell_type": "code",
      "source": [
        "print(fun3(5.0, 0.5, 1.2)) # one argument is extra"
      ],
      "metadata": {
        "colab": {
          "base_uri": "https://localhost:8080/",
          "height": 141
        },
        "id": "aU24BUe4BBFf",
        "outputId": "3c921d91-cc91-4e9d-b3f5-a4be6a1a3657"
      },
      "execution_count": null,
      "outputs": [
        {
          "output_type": "error",
          "ename": "TypeError",
          "evalue": "fun3() takes 2 positional arguments but 3 were given",
          "traceback": [
            "\u001b[0;31m---------------------------------------------------------------------------\u001b[0m",
            "\u001b[0;31mTypeError\u001b[0m                                 Traceback (most recent call last)",
            "\u001b[0;32m<ipython-input-37-e5d460b3e850>\u001b[0m in \u001b[0;36m<cell line: 1>\u001b[0;34m()\u001b[0m\n\u001b[0;32m----> 1\u001b[0;31m \u001b[0mprint\u001b[0m\u001b[0;34m(\u001b[0m\u001b[0mfun3\u001b[0m\u001b[0;34m(\u001b[0m\u001b[0;36m5.0\u001b[0m\u001b[0;34m,\u001b[0m \u001b[0;36m0.5\u001b[0m\u001b[0;34m,\u001b[0m \u001b[0;36m1.2\u001b[0m\u001b[0;34m)\u001b[0m\u001b[0;34m)\u001b[0m \u001b[0;31m# one argument is extra\u001b[0m\u001b[0;34m\u001b[0m\u001b[0;34m\u001b[0m\u001b[0m\n\u001b[0m",
            "\u001b[0;31mTypeError\u001b[0m: fun3() takes 2 positional arguments but 3 were given"
          ]
        }
      ]
    },
    {
      "cell_type": "code",
      "source": [
        "print(fun4(15))"
      ],
      "metadata": {
        "colab": {
          "base_uri": "https://localhost:8080/"
        },
        "id": "H9diteBCBFci",
        "outputId": "0d9083f8-52af-4323-fa55-b20a2920972e"
      },
      "execution_count": null,
      "outputs": [
        {
          "output_type": "stream",
          "name": "stdout",
          "text": [
            "True\n"
          ]
        }
      ]
    },
    {
      "cell_type": "code",
      "source": [
        "print(fun4(5))"
      ],
      "metadata": {
        "colab": {
          "base_uri": "https://localhost:8080/"
        },
        "id": "mCkGUIx2BMdl",
        "outputId": "aeb4cb12-5454-4e09-9dbe-a24f406cb606"
      },
      "execution_count": null,
      "outputs": [
        {
          "output_type": "stream",
          "name": "stdout",
          "text": [
            "False\n"
          ]
        }
      ]
    },
    {
      "cell_type": "code",
      "source": [
        "print(fun4(5000))\n"
      ],
      "metadata": {
        "colab": {
          "base_uri": "https://localhost:8080/"
        },
        "id": "hwnWqhz8BO19",
        "outputId": "cefd6335-738f-4248-9c24-8fbb16c3e2d0"
      },
      "execution_count": null,
      "outputs": [
        {
          "output_type": "stream",
          "name": "stdout",
          "text": [
            "False\n"
          ]
        }
      ]
    },
    {
      "cell_type": "code",
      "source": [
        "print(fun5()) # argument passing is necessay if these are written in parameter of function definition"
      ],
      "metadata": {
        "colab": {
          "base_uri": "https://localhost:8080/",
          "height": 141
        },
        "id": "KL_WX-XOBR3T",
        "outputId": "306a002c-1474-4a7b-de5b-c8ffa2a39af4"
      },
      "execution_count": null,
      "outputs": [
        {
          "output_type": "error",
          "ename": "TypeError",
          "evalue": "fun5() missing 3 required positional arguments: 'a', 'b', and 'c'",
          "traceback": [
            "\u001b[0;31m---------------------------------------------------------------------------\u001b[0m",
            "\u001b[0;31mTypeError\u001b[0m                                 Traceback (most recent call last)",
            "\u001b[0;32m<ipython-input-42-dbaada3390ca>\u001b[0m in \u001b[0;36m<cell line: 1>\u001b[0;34m()\u001b[0m\n\u001b[0;32m----> 1\u001b[0;31m \u001b[0mprint\u001b[0m\u001b[0;34m(\u001b[0m\u001b[0mfun5\u001b[0m\u001b[0;34m(\u001b[0m\u001b[0;34m)\u001b[0m\u001b[0;34m)\u001b[0m\u001b[0;34m\u001b[0m\u001b[0;34m\u001b[0m\u001b[0m\n\u001b[0m",
            "\u001b[0;31mTypeError\u001b[0m: fun5() missing 3 required positional arguments: 'a', 'b', and 'c'"
          ]
        }
      ]
    },
    {
      "cell_type": "code",
      "source": [
        "print(fun5(4)) # two arguments are missing"
      ],
      "metadata": {
        "colab": {
          "base_uri": "https://localhost:8080/",
          "height": 141
        },
        "id": "enrKZ7BeBXtI",
        "outputId": "37f9f6a7-3aa5-438a-bb97-14272d9cb5ab"
      },
      "execution_count": null,
      "outputs": [
        {
          "output_type": "error",
          "ename": "TypeError",
          "evalue": "fun5() missing 2 required positional arguments: 'b' and 'c'",
          "traceback": [
            "\u001b[0;31m---------------------------------------------------------------------------\u001b[0m",
            "\u001b[0;31mTypeError\u001b[0m                                 Traceback (most recent call last)",
            "\u001b[0;32m<ipython-input-43-a54bf1afee46>\u001b[0m in \u001b[0;36m<cell line: 1>\u001b[0;34m()\u001b[0m\n\u001b[0;32m----> 1\u001b[0;31m \u001b[0mprint\u001b[0m\u001b[0;34m(\u001b[0m\u001b[0mfun5\u001b[0m\u001b[0;34m(\u001b[0m\u001b[0;36m4\u001b[0m\u001b[0;34m)\u001b[0m\u001b[0;34m)\u001b[0m \u001b[0;31m# two arguments are missing\u001b[0m\u001b[0;34m\u001b[0m\u001b[0;34m\u001b[0m\u001b[0m\n\u001b[0m",
            "\u001b[0;31mTypeError\u001b[0m: fun5() missing 2 required positional arguments: 'b' and 'c'"
          ]
        }
      ]
    },
    {
      "cell_type": "code",
      "source": [
        "print(fun3(fun1(3), 3))  # fun3(6,3)"
      ],
      "metadata": {
        "colab": {
          "base_uri": "https://localhost:8080/"
        },
        "id": "KVObTwCmBtWx",
        "outputId": "1a47ab97-75ed-482e-9070-c997a45ff2f0"
      },
      "execution_count": null,
      "outputs": [
        {
          "output_type": "stream",
          "name": "stdout",
          "text": [
            "81\n"
          ]
        }
      ]
    },
    {
      "cell_type": "code",
      "source": [
        "print(fun3(3, fun1(3))) #fun3(3,6)"
      ],
      "metadata": {
        "colab": {
          "base_uri": "https://localhost:8080/"
        },
        "id": "uJ3OmvWPCXz6",
        "outputId": "c6b3d1d1-bac7-4fa9-f697-251e9e59f89e"
      },
      "execution_count": null,
      "outputs": [
        {
          "output_type": "stream",
          "name": "stdout",
          "text": [
            "36\n"
          ]
        }
      ]
    },
    {
      "cell_type": "code",
      "source": [
        "print(fun1(fun1(fun1(3))))\n",
        "'''\n",
        "Decoding :\n",
        "fun1(fun1(fun1(3))) -> fun1(fun1(6)) -> fun1(21) -> 231\n",
        "'''"
      ],
      "metadata": {
        "colab": {
          "base_uri": "https://localhost:8080/"
        },
        "id": "07Aayp3lCrHQ",
        "outputId": "fe27809c-053e-486a-8ec9-8122bac5fc32"
      },
      "execution_count": null,
      "outputs": [
        {
          "output_type": "stream",
          "name": "stdout",
          "text": [
            "231\n"
          ]
        }
      ]
    },
    {
      "cell_type": "markdown",
      "source": [
        "### 8. Consider the following function:"
      ],
      "metadata": {
        "id": "AedNTd0dEYtX"
      }
    },
    {
      "cell_type": "code",
      "source": [
        "def proc(n):\n",
        "  if n < 1:\n",
        "    return 1\n",
        "  else:\n",
        "    return proc(n/2)"
      ],
      "metadata": {
        "id": "VB3y0nAFC1FK"
      },
      "execution_count": null,
      "outputs": []
    },
    {
      "cell_type": "code",
      "source": [
        "proc(0)"
      ],
      "metadata": {
        "colab": {
          "base_uri": "https://localhost:8080/"
        },
        "id": "nnjxwwFmEiEf",
        "outputId": "832cd8eb-9864-4487-84c0-d17290356170"
      },
      "execution_count": null,
      "outputs": [
        {
          "output_type": "execute_result",
          "data": {
            "text/plain": [
              "1"
            ]
          },
          "metadata": {},
          "execution_count": 50
        }
      ]
    },
    {
      "cell_type": "code",
      "source": [
        "proc(1)\n",
        "# n == 1 so -> else poc(1/2) = n = 0.5 < 1 so return 1"
      ],
      "metadata": {
        "colab": {
          "base_uri": "https://localhost:8080/"
        },
        "id": "RDsUJXHpFD5t",
        "outputId": "6058cc5e-5e82-4568-e2a2-a01b85fff7a3"
      },
      "execution_count": null,
      "outputs": [
        {
          "output_type": "execute_result",
          "data": {
            "text/plain": [
              "1"
            ]
          },
          "metadata": {},
          "execution_count": 52
        }
      ]
    },
    {
      "cell_type": "code",
      "source": [
        "proc(2)\n",
        "# n > 1 so -> else poc(2/2) = n = 1 -> else poc(1/2) -> 0.5 smaller than 1 so return 1"
      ],
      "metadata": {
        "colab": {
          "base_uri": "https://localhost:8080/"
        },
        "id": "mobkvM64Ffwy",
        "outputId": "fa2760b9-439c-4f83-c4c8-f0cc86a240b2"
      },
      "execution_count": null,
      "outputs": [
        {
          "output_type": "execute_result",
          "data": {
            "text/plain": [
              "1"
            ]
          },
          "metadata": {},
          "execution_count": 53
        }
      ]
    },
    {
      "cell_type": "code",
      "source": [
        "proc(5)\n",
        "# n = 5 -> n = 2.5 -> n = 1.75 -> n = 0.875 then return 1"
      ],
      "metadata": {
        "colab": {
          "base_uri": "https://localhost:8080/"
        },
        "id": "7FBn55UUFjl6",
        "outputId": "a1449de5-e484-4b2f-d248-80ba69101ab5"
      },
      "execution_count": null,
      "outputs": [
        {
          "output_type": "execute_result",
          "data": {
            "text/plain": [
              "1"
            ]
          },
          "metadata": {},
          "execution_count": 55
        }
      ]
    },
    {
      "cell_type": "code",
      "source": [
        "proc(10)\n",
        "# n = 10 -> n = 5 -> n = 2.5 -> n = 1.75 -> n = 0.875 then return 1"
      ],
      "metadata": {
        "colab": {
          "base_uri": "https://localhost:8080/"
        },
        "id": "cPimvwDKF5ao",
        "outputId": "6ef33946-eef5-4f2d-f731-09897e188500"
      },
      "execution_count": null,
      "outputs": [
        {
          "output_type": "execute_result",
          "data": {
            "text/plain": [
              "1"
            ]
          },
          "metadata": {},
          "execution_count": 56
        }
      ]
    },
    {
      "cell_type": "markdown",
      "source": [
        "### 9. What does the following Python program print?"
      ],
      "metadata": {
        "id": "S7QigX9tGZJR"
      }
    },
    {
      "cell_type": "code",
      "source": [
        "def sum(m=0, n=0, r=0):\n",
        "  return m + n + r\n",
        "\n",
        "print(sum()) #-> 0 + 0 + 0\n",
        "print(sum(4)) #-> 4 + 0 +0\n",
        "print(sum(4, 5)) #-> 4 + 5 +0\n",
        "print(sum(5, 4))  #-> 5 + 4 +0\n",
        "print(sum(1, 2, 3)) #-> 1 + 2 +3\n",
        "print(sum(2.6, 1.0, 3))  #-> 2.6 + 1.0 +3"
      ],
      "metadata": {
        "colab": {
          "base_uri": "https://localhost:8080/"
        },
        "id": "fuMS_o7aGd_R",
        "outputId": "082fe6ef-d7de-4642-bbef-dc648a8df4be"
      },
      "execution_count": null,
      "outputs": [
        {
          "output_type": "stream",
          "name": "stdout",
          "text": [
            "0\n",
            "4\n",
            "9\n",
            "9\n",
            "6\n",
            "6.6\n"
          ]
        }
      ]
    },
    {
      "cell_type": "markdown",
      "source": [
        "### 10. Consider the following Python code:\n"
      ],
      "metadata": {
        "id": "dAcSXO-nHCo_"
      }
    },
    {
      "cell_type": "code",
      "source": [
        "def sum1(n):\n",
        "  s = 0\n",
        "  while n > 0:\n",
        "    s += 1\n",
        "    n -= 1\n",
        "  return s\n",
        "\n",
        "def sum2():\n",
        "  global val\n",
        "  s = 0\n",
        "  while val > 0:\n",
        "    s += 1\n",
        "    val -= 1\n",
        "  return s\n",
        "def sum3():\n",
        "  s = 0\n",
        "  for i in range(val, 0, -1):\n",
        "    s += 1\n",
        "  return s\n",
        "\n",
        "# def main():\n",
        "  # See each question below for details\n",
        "  main() # Call main function"
      ],
      "metadata": {
        "id": "PpY5SEKSG8eW"
      },
      "execution_count": null,
      "outputs": []
    },
    {
      "cell_type": "markdown",
      "source": [
        "a. What is printed if main is written as follows?\n",
        "def main():\n",
        "global val\n",
        "val = 5\n",
        "print(sum1(5))\n",
        "print(sum2())\n",
        "print(sum3())"
      ],
      "metadata": {
        "id": "sdrOrqBpHjhW"
      }
    },
    {
      "cell_type": "code",
      "source": [
        "# a. What is printed if main is written as follows?\n",
        "def main():\n",
        "  global val\n",
        "  val = 5\n",
        "  print(sum1(5))\n",
        "  print(sum2()) # as the function sum2 modified the golbal to zero\n",
        "  print(sum3()) #there for function sum3 range became (0,0,-1) as 0 is not greater than zero\n",
        "  #so following the general formula 0 in the range will generated\n",
        "\n",
        "main() # Call main function"
      ],
      "metadata": {
        "colab": {
          "base_uri": "https://localhost:8080/"
        },
        "id": "A-Laxk8uHl-B",
        "outputId": "482c862a-009c-4c17-aa4e-8a70726cff50"
      },
      "execution_count": null,
      "outputs": [
        {
          "output_type": "stream",
          "name": "stdout",
          "text": [
            "5\n",
            "5\n",
            "0\n"
          ]
        }
      ]
    },
    {
      "cell_type": "code",
      "source": [
        "def main():\n",
        "  global val\n",
        "  val = 5\n",
        "  print(sum1(5))\n",
        "  print(sum3()) # as val is not modified till yet\n",
        "  print(sum2())\n",
        "\n",
        "main()"
      ],
      "metadata": {
        "colab": {
          "base_uri": "https://localhost:8080/"
        },
        "id": "5bFcAkg6PlCS",
        "outputId": "2c970a26-ce67-47fb-c4ca-ea095345811e"
      },
      "execution_count": null,
      "outputs": [
        {
          "output_type": "stream",
          "name": "stdout",
          "text": [
            "5\n",
            "5\n",
            "5\n"
          ]
        }
      ]
    },
    {
      "cell_type": "code",
      "source": [
        "def main():\n",
        "  global val\n",
        "  val = 5\n",
        "  print(sum2()) #  modified golobal variable to zero\n",
        "  print(sum1(5)) # but here new object of int 5 is passed as actual parameter\n",
        "  print(sum3()) # use global so it is modified to zero\n",
        "\n",
        "main()"
      ],
      "metadata": {
        "colab": {
          "base_uri": "https://localhost:8080/"
        },
        "id": "qmybVn03RKOS",
        "outputId": "68fa10e2-e764-450b-e5d7-99b94d4f5e84"
      },
      "execution_count": null,
      "outputs": [
        {
          "output_type": "stream",
          "name": "stdout",
          "text": [
            "5\n",
            "5\n",
            "0\n"
          ]
        }
      ]
    },
    {
      "cell_type": "markdown",
      "source": [
        "\n",
        "```\n",
        "d. Which of the functions sum1, sum2, and sum3 produce a side effect? What is the side effect?\n",
        "Ans: The sum2 function is producing side effect by modifing orginal or global variable of val\n",
        "\n",
        "e. Which function may not use the val variable?\n",
        "Ans: sum2 function should not use val as it is modifing the global variable which is producing\n",
        "side effect instead passing and argument will be better option\n",
        "\n",
        "f. What is the scope of the variable val? What is its lifetime?\n",
        "Ans: The scope of Val is Golbal meaning its lifetime remains during the entire excucation of program\n",
        "\n",
        "g. What is the scope of the variable i? What is its lifetime?\n",
        "Ans: variable i is the part of sum3 function meaning it scope is local and only avaliable in the\n",
        "namespace of sum3 function. Its lifetime only remain as soon as the function is runing or in calling stage\n",
        "\n",
        "h. Which of the functions sum1, sum2, and sum3 demonstrate good functional independence? Why?\n",
        "Ans: Sum1 function is a function that demostrate functional independence\n",
        "as it takes and an independent which doesnot depent on any thing.\n",
        "\n",
        "```"
      ],
      "metadata": {
        "id": "0qSM4lA7SPiT"
      }
    },
    {
      "cell_type": "markdown",
      "source": [
        "### 11. Consider the following very simple module, found in the file mymod.py:\n"
      ],
      "metadata": {
        "id": "XBDOj42RUmeL"
      }
    },
    {
      "cell_type": "code",
      "source": [
        "\"\"\" Provides the increment function, increment. \"\"\"\n",
        "def increment(x):\n",
        "  \"\"\" Increments x by 1 and returns the result. \"\"\"\n",
        "  return x + 1"
      ],
      "metadata": {
        "id": "tVW6XaTgRum_"
      },
      "execution_count": null,
      "outputs": []
    },
    {
      "cell_type": "code",
      "source": [
        "#  A programmer wishes to use the increment function from the mymod.py module. Indicate which, if any, of the\n",
        "#  following code snippets would work:\n",
        "\n",
        "#  a.\n",
        "import mymod\n",
        "print(increment(4)) # Supposed to print 5 but not produce error increment is not defined\n",
        "\n",
        "# # b.\n",
        "import from mymod import increment\n",
        "print(increment(4)) # Supposed to print 5 throught error cuz wrong syntax\n",
        "\n",
        "# c\n",
        "import mymod\n",
        "print(mymod.increment(4)) # Supposed to print 5 The increment function is part of the mymod namespace, so you must use the full name: mymod.increment.\n",
        "\n",
        "# # d.\n",
        "from mymod import increment\n",
        "print(mymod.increment(4)) ''' Attribute error -> When you use from mymod import increment, you're importing the increment\n",
        "function directly into your current namespace.\n",
        "# This means increment is no longer part of the mymod module’s namespace; it is now directly available in your current script.\n",
        "# Therefore, you cannot access increment through mymod. anymore, as it has been removed from the module's namespace.'''"
      ],
      "metadata": {
        "id": "rK7gBb-sU0Ui"
      },
      "execution_count": null,
      "outputs": []
    },
    {
      "cell_type": "markdown",
      "source": [
        "### 12. Write a function called count_odd to count and return odd numbers in a list. The list is passed as argument to the function."
      ],
      "metadata": {
        "id": "bGHqFhE5W8lT"
      }
    },
    {
      "cell_type": "code",
      "source": [
        "def count_odd(l : list) -> int:\n",
        "  count  = 0\n",
        "  for i in l:\n",
        "    if i % 2 :\n",
        "      count += 1\n",
        "  return count\n",
        "\n",
        "count_odd([1,2,3,4,4,5,7])"
      ],
      "metadata": {
        "colab": {
          "base_uri": "https://localhost:8080/"
        },
        "id": "zD9IELUGXEkq",
        "outputId": "623e9ccf-e232-4b53-8106-edc7109b0804"
      },
      "execution_count": null,
      "outputs": [
        {
          "output_type": "execute_result",
          "data": {
            "text/plain": [
              "4"
            ]
          },
          "metadata": {},
          "execution_count": 69
        }
      ]
    },
    {
      "cell_type": "markdown",
      "source": [
        "### 13 Write a function Pytha that, given the lengths of the two sides of a right triangle adjacent to the right angle, computes the length of the hypotenuse of the triangle."
      ],
      "metadata": {
        "id": "woZ6SV3gYzPQ"
      }
    },
    {
      "cell_type": "code",
      "source": [
        "def Pytha(perp: float, base : float) -> float:\n",
        "  hypo : float  = (perp ** 2 + base ** 2)** 0.5\n",
        "  return hypo\n",
        "\n",
        "Pytha(3,4)"
      ],
      "metadata": {
        "colab": {
          "base_uri": "https://localhost:8080/"
        },
        "id": "Ab07XsSfYqBZ",
        "outputId": "bce81e35-083f-4076-ef51-a54ffdeb736e"
      },
      "execution_count": null,
      "outputs": [
        {
          "output_type": "execute_result",
          "data": {
            "text/plain": [
              "5.0"
            ]
          },
          "metadata": {},
          "execution_count": 70
        }
      ]
    },
    {
      "cell_type": "markdown",
      "source": [
        "### 14 Write a function called index that inputs a list and a value. If the value is present in the list it returns the indices of all its occurrences in the form a tuple. If the value is not there, it returns an empty tuple. In the program use this return value to print appropriate messages. Do not call any method of object list."
      ],
      "metadata": {
        "id": "PWIexbuwcukV"
      }
    },
    {
      "cell_type": "code",
      "source": [
        "def indices(list_ : list , value : any) -> tuple:\n",
        "  indice = ()\n",
        "  for index , i in enumerate(list_):\n",
        "    if i == value:\n",
        "      indice  = indice+(index,)\n",
        "      # indice  = indice+ tuple(index)  this will not work because tuple/ list want iterable to convert into list or tuple type\n",
        "\n",
        "  return indice\n",
        "\n",
        "indices([1,2,3,4,5,4,5,3,1],1)\n",
        "# indices([1,2,3,4,5,4,5,3,1],0)\n",
        "\n"
      ],
      "metadata": {
        "colab": {
          "base_uri": "https://localhost:8080/"
        },
        "id": "38Nx7nQLcuQe",
        "outputId": "f65184c8-fbfd-4a86-9fd5-b48e778eb297"
      },
      "execution_count": null,
      "outputs": [
        {
          "output_type": "execute_result",
          "data": {
            "text/plain": [
              "(0, 8)"
            ]
          },
          "metadata": {},
          "execution_count": 79
        }
      ]
    },
    {
      "cell_type": "markdown",
      "source": [
        "### 15 Implement function abbreviation that takes a day of the week as input and returns its two-letter abbreviation. It returns None if the input is not valid."
      ],
      "metadata": {
        "id": "V-BMCNF0gyIc"
      }
    },
    {
      "cell_type": "code",
      "source": [
        "def days_abb(day : str) -> str:\n",
        "  day  = day.lower()\n",
        "  days  = ['monday', 'tuesday', 'wednesday' ,'thursday','friday', 'saturday','sunday']\n",
        "  if day in days:\n",
        "    return day[0:2].upper()\n",
        "\n",
        "days_abb('Monday')"
      ],
      "metadata": {
        "colab": {
          "base_uri": "https://localhost:8080/",
          "height": 35
        },
        "id": "swPx7NuGZbBf",
        "outputId": "816ddbd7-801b-422a-821c-f3e23d16e4f9"
      },
      "execution_count": null,
      "outputs": [
        {
          "output_type": "execute_result",
          "data": {
            "text/plain": [
              "'MO'"
            ],
            "application/vnd.google.colaboratory.intrinsic+json": {
              "type": "string"
            }
          },
          "metadata": {},
          "execution_count": 82
        }
      ]
    },
    {
      "cell_type": "markdown",
      "source": [
        "### 16 Implement function partition that splits a list of soccer players into two groups. It takes a list of first names (strings) as input and creates and returns two new lists which are subsets of the original lists. The function puts the names of those soccer players whose first name starts with a letter between and including A and M, in one list and remaining name in the other."
      ],
      "metadata": {
        "id": "gc-DBgaziFKB"
      }
    },
    {
      "cell_type": "code",
      "source": [
        "def split_list(players_list : list[str]) -> tuple[list,list]:\n",
        "  playerA_M = []\n",
        "  nonA_M = []\n",
        "  for player in players_list:\n",
        "    if 'A'<= player[0].upper() <= 'M':\n",
        "      playerA_M.append(player)\n",
        "    else:\n",
        "      nonA_M.append(player)\n",
        "  return playerA_M,nonA_M\n",
        "\n",
        "players = [\"alice\", \"Bob\", \"charlie\", \"Mike\", \"Zara\", \"uma\", \"john\"]\n",
        "playerA_M, nonA_M = split_list(players)\n",
        "print(playerA_M)\n",
        "print(nonA_M)"
      ],
      "metadata": {
        "colab": {
          "base_uri": "https://localhost:8080/"
        },
        "id": "Qo1gcg7Dg_j8",
        "outputId": "b91d2721-2650-4035-a102-d8616a5cb17b"
      },
      "execution_count": null,
      "outputs": [
        {
          "output_type": "stream",
          "name": "stdout",
          "text": [
            "['alice', 'Bob', 'charlie', 'Mike', 'john']\n",
            "['Zara', 'uma']\n"
          ]
        }
      ]
    },
    {
      "cell_type": "markdown",
      "source": [
        "### 17. Implement function points that takes as input four numbers x1, y1, x2, y2 that are the coordinates of two points (x1; y1) and (x2; y2) in the plane. Your function should compute and print:  The slope of the line going through the points, unless the line is vertical.  The distance between the two points. If the line is vertical, the value of both slope and distance should be string 'infinity'."
      ],
      "metadata": {
        "id": "j6SFOXCBnSBB"
      }
    },
    {
      "cell_type": "code",
      "source": [
        "def point(x1: float , y1: float , x2 : float , y2 :float) -> None:\n",
        "\n",
        "  if x1 == x2:\n",
        "    slope  = 'Infinity'\n",
        "    distance  =  'Infinity'\n",
        "  else:\n",
        "    slope  = (y2 - y1 )/ (x2 - x1)\n",
        "    distance  = ((x2 - x1) ** 2 + (y2-y1) ** 2 ) ** 0.5\n",
        "\n",
        "  print(f\"The slope is {slope} and distance is {distance}\")\n",
        "\n",
        "\n",
        "point(0,0,1,1)\n",
        "point(0,0,0,1)"
      ],
      "metadata": {
        "colab": {
          "base_uri": "https://localhost:8080/"
        },
        "id": "eGFvq5qflZX8",
        "outputId": "6d44c6fa-b48a-465e-eca1-d69b00365acf"
      },
      "execution_count": null,
      "outputs": [
        {
          "output_type": "stream",
          "name": "stdout",
          "text": [
            "The slope is 1.0 and distance is 1.4142135623730951\n",
            "The slope is Infinity and distance is Infinity\n"
          ]
        }
      ]
    },
    {
      "cell_type": "markdown",
      "source": [
        "### 18. Write function lastF that takes as input two strings of the form 'FirstName' and 'LastName', respectively, and returns a string of the form 'LastName, F.'. Only the initial should be output for the first name."
      ],
      "metadata": {
        "id": "slGYjLcPryiI"
      }
    },
    {
      "cell_type": "code",
      "source": [
        "def lastF(first : str , last : str) -> str:\n",
        "  return f\"{last},{first[0]}\"\n",
        "\n",
        "lastF('Albert', 'Camus')"
      ],
      "metadata": {
        "colab": {
          "base_uri": "https://localhost:8080/",
          "height": 35
        },
        "id": "K4AOLaJ6ogHq",
        "outputId": "2d1235a9-7e44-426e-f7d4-1858d6bce2a4"
      },
      "execution_count": null,
      "outputs": [
        {
          "output_type": "execute_result",
          "data": {
            "text/plain": [
              "'Camus,A'"
            ],
            "application/vnd.google.colaboratory.intrinsic+json": {
              "type": "string"
            }
          },
          "metadata": {},
          "execution_count": 89
        }
      ]
    },
    {
      "cell_type": "markdown",
      "source": [
        "### 19. Write a function called print_high that prints a multi-digit decimal number digit-wise, starting from higher order digit."
      ],
      "metadata": {
        "id": "96KdRK1Bshk_"
      }
    },
    {
      "cell_type": "code",
      "source": [
        "def print_high(number : float) -> None:\n",
        "  new = str(number)\n",
        "  for i in new:\n",
        "    if i != '.':\n",
        "      print(i)\n",
        "\n",
        "print_high(122.9035)"
      ],
      "metadata": {
        "colab": {
          "base_uri": "https://localhost:8080/"
        },
        "id": "pk3pDt57sk2y",
        "outputId": "c96ee43e-36d7-44f5-f37a-b77f3b661983"
      },
      "execution_count": null,
      "outputs": [
        {
          "output_type": "stream",
          "name": "stdout",
          "text": [
            "1\n",
            "2\n",
            "2\n",
            "9\n",
            "0\n",
            "3\n",
            "5\n"
          ]
        }
      ]
    },
    {
      "cell_type": "code",
      "source": [],
      "metadata": {
        "id": "T0AjvUgJvqDu"
      },
      "execution_count": null,
      "outputs": []
    }
  ]
}